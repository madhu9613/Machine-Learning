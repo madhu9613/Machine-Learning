{
 "cells": [
  {
   "cell_type": "markdown",
   "id": "aa5cd3a3",
   "metadata": {},
   "source": [
    "#Problem Statement\n",
    "=====================\n",
    "Suppose you are the CEO of a restaurant franchise and are considering different cities for opening a new outlet.\n",
    "\n",
    "You would like to expand your business to cities that may give your restaurant higher profits.\n",
    "The chain already has restaurants in various cities and you have data for profits and populations from the cities.\n",
    "You also have data on cities that are candidates for a new restaurant.\n",
    "For these cities, you have the city population.\n",
    "Can you use the data to help you identify which cities may potentially give your business higher profits?"
   ]
  },
  {
   "cell_type": "code",
   "execution_count": 1,
   "id": "e9c26582",
   "metadata": {},
   "outputs": [],
   "source": [
    "import numpy as np\n",
    "import pandas as pd\n",
    "import matplotlib.pylab as plt"
   ]
  },
  {
   "cell_type": "code",
   "execution_count": 3,
   "id": "e4b2b9ce",
   "metadata": {},
   "outputs": [
    {
     "data": {
      "text/html": [
       "<div>\n",
       "<style scoped>\n",
       "    .dataframe tbody tr th:only-of-type {\n",
       "        vertical-align: middle;\n",
       "    }\n",
       "\n",
       "    .dataframe tbody tr th {\n",
       "        vertical-align: top;\n",
       "    }\n",
       "\n",
       "    .dataframe thead th {\n",
       "        text-align: right;\n",
       "    }\n",
       "</style>\n",
       "<table border=\"1\" class=\"dataframe\">\n",
       "  <thead>\n",
       "    <tr style=\"text-align: right;\">\n",
       "      <th></th>\n",
       "      <th>size</th>\n",
       "      <th>profit</th>\n",
       "    </tr>\n",
       "  </thead>\n",
       "  <tbody>\n",
       "    <tr>\n",
       "      <th>0</th>\n",
       "      <td>6.1101</td>\n",
       "      <td>17.5920</td>\n",
       "    </tr>\n",
       "    <tr>\n",
       "      <th>1</th>\n",
       "      <td>5.5277</td>\n",
       "      <td>9.1302</td>\n",
       "    </tr>\n",
       "    <tr>\n",
       "      <th>2</th>\n",
       "      <td>8.5186</td>\n",
       "      <td>13.6620</td>\n",
       "    </tr>\n",
       "    <tr>\n",
       "      <th>3</th>\n",
       "      <td>7.0032</td>\n",
       "      <td>11.8540</td>\n",
       "    </tr>\n",
       "    <tr>\n",
       "      <th>4</th>\n",
       "      <td>5.8598</td>\n",
       "      <td>6.8233</td>\n",
       "    </tr>\n",
       "  </tbody>\n",
       "</table>\n",
       "</div>"
      ],
      "text/plain": [
       "     size   profit\n",
       "0  6.1101  17.5920\n",
       "1  5.5277   9.1302\n",
       "2  8.5186  13.6620\n",
       "3  7.0032  11.8540\n",
       "4  5.8598   6.8233"
      ]
     },
     "execution_count": 3,
     "metadata": {},
     "output_type": "execute_result"
    }
   ],
   "source": [
    "df=pd.read_csv(\"data.csv\")\n",
    "df.head()"
   ]
  },
  {
   "cell_type": "code",
   "execution_count": 4,
   "id": "206e0c0a",
   "metadata": {},
   "outputs": [
    {
     "name": "stdout",
     "output_type": "stream",
     "text": [
      "<class 'pandas.core.frame.DataFrame'>\n",
      "RangeIndex: 97 entries, 0 to 96\n",
      "Data columns (total 2 columns):\n",
      " #   Column  Non-Null Count  Dtype  \n",
      "---  ------  --------------  -----  \n",
      " 0   size    97 non-null     float64\n",
      " 1   profit  97 non-null     float64\n",
      "dtypes: float64(2)\n",
      "memory usage: 1.6 KB\n"
     ]
    }
   ],
   "source": [
    "df.info()"
   ]
  },
  {
   "cell_type": "code",
   "execution_count": null,
   "id": "2cfe055d",
   "metadata": {},
   "outputs": [],
   "source": [
    "X=df.iloc[:,0:1]\n",
    "Y=df.iloc[:,-1:]\n",
    "X_train=np.array(X)\n",
    "Y_train=np.array(Y)"
   ]
  },
  {
   "cell_type": "markdown",
   "id": "00d42a36",
   "metadata": {},
   "source": [
    "Visulize the data."
   ]
  },
  {
   "cell_type": "code",
   "execution_count": 22,
   "id": "969ded05",
   "metadata": {},
   "outputs": [
    {
     "data": {
      "text/plain": [
       "Text(0.5, 1.0, 'size vs profit for resturent outlet')"
      ]
     },
     "execution_count": 22,
     "metadata": {},
     "output_type": "execute_result"
    },
    {
     "data": {
      "image/png": "[encoded data removed]",
      "text/plain": [
       "<Figure size 640x480 with 1 Axes>"
      ]
     },
     "metadata": {},
     "output_type": "display_data"
    }
   ],
   "source": [
    "plt.scatter(df['size'],df['profit'],c='red',marker='x')\n",
    "plt.xlabel(\"size\")\n",
    "plt.ylabel(\"profit\")\n",
    "plt.title(\"size vs profit for resturent outlet\")\n",
    "#we will surely use linear regression..."
   ]
  },
  {
   "cell_type": "code",
   "execution_count": 23,
   "id": "40de7f8f",
   "metadata": {},
   "outputs": [
    {
     "name": "stdout",
     "output_type": "stream",
     "text": [
      "[1. 1.]\n",
      "97\n",
      "[[-0.53240565  1.        ]\n",
      " [-0.68368294  1.        ]\n",
      " [ 0.09319761  1.        ]\n",
      " [-0.30042464  1.        ]\n",
      " [-0.5974206   1.        ]\n",
      " [ 0.0579498   1.        ]\n",
      " [-0.17751184  1.        ]\n",
      " [ 0.10865262  1.        ]\n",
      " [-0.4347144   1.        ]\n",
      " [-0.80656976  1.        ]\n",
      " [-0.63614904  1.        ]\n",
      " [ 1.55957946  1.        ]\n",
      " [-0.63009691  1.        ]\n",
      " [ 0.06457337  1.        ]\n",
      " [-0.6543314   1.        ]\n",
      " [-0.72220358  1.        ]\n",
      " [-0.46609197  1.        ]\n",
      " [-0.78695878  1.        ]\n",
      " [-0.44941614  1.        ]\n",
      " [-0.28286567  1.        ]\n",
      " [-0.51188555  1.        ]\n",
      " [ 3.14560127  1.        ]\n",
      " [-0.69344947  1.        ]\n",
      " [-0.47630007  1.        ]\n",
      " [-0.67402031  1.        ]\n",
      " [ 2.80143506  1.        ]\n",
      " [ 1.21255602  1.        ]\n",
      " [ 0.72656735  1.        ]\n",
      " [ 1.30294835  1.        ]\n",
      " [ 3.64769432  1.        ]\n",
      " [-0.75519159  1.        ]\n",
      " [-0.40790839  1.        ]\n",
      " [ 0.28270982  1.        ]\n",
      " [-0.58910866  1.        ]\n",
      " [ 0.01332508  1.        ]\n",
      " [-0.05880697  1.        ]\n",
      " [-0.0165979   1.        ]\n",
      " [-0.66326674  1.        ]\n",
      " [ 1.214634    1.        ]\n",
      " [-0.46920894  1.        ]\n",
      " [-0.71506051  1.        ]\n",
      " [-0.33177623  1.        ]\n",
      " [ 0.92163816  1.        ]\n",
      " [-0.61978491  1.        ]\n",
      " [-0.08704158  1.        ]\n",
      " [-0.27707328  1.        ]\n",
      " [-0.80251769  1.        ]\n",
      " [-0.61258989  1.        ]\n",
      " [ 0.91956017  1.        ]\n",
      " [-0.68007244  1.        ]\n",
      " [-0.16093991  1.        ]\n",
      " [-0.74082752  1.        ]\n",
      " [-0.19114862  1.        ]\n",
      " [-0.14460176  1.        ]\n",
      " [-0.47455975  1.        ]\n",
      " [-0.46778033  1.        ]\n",
      " [-0.48978099  1.        ]\n",
      " [-0.65459115  1.        ]\n",
      " [ 0.2988142   1.        ]\n",
      " [ 0.33606207  1.        ]\n",
      " [ 0.17288833  1.        ]\n",
      " [-0.77417917  1.        ]\n",
      " [ 3.40768709  1.        ]\n",
      " [ 1.75283204  1.        ]\n",
      " [ 2.80507153  1.        ]\n",
      " [-0.2445788   1.        ]\n",
      " [ 0.03514392  1.        ]\n",
      " [ 0.53928898  1.        ]\n",
      " [-0.69103381  1.        ]\n",
      " [ 3.16404339  1.        ]\n",
      " [ 0.51331417  1.        ]\n",
      " [-0.2143701   1.        ]\n",
      " [-0.55939348  1.        ]\n",
      " [-0.24257874  1.        ]\n",
      " [-0.81376478  1.        ]\n",
      " [-0.41868794  1.        ]\n",
      " [-0.16135551  1.        ]\n",
      " [-0.8112712   1.        ]\n",
      " [ 0.5491594   1.        ]\n",
      " [-0.79277713  1.        ]\n",
      " [-0.6313437   1.        ]\n",
      " [-0.77181546  1.        ]\n",
      " [-0.46861152  1.        ]\n",
      " [ 0.4179087   1.        ]\n",
      " [-0.42699988  1.        ]\n",
      " [ 0.09283397  1.        ]\n",
      " [ 0.26504695  1.        ]\n",
      " [-0.56048442  1.        ]\n",
      " [-0.6855791   1.        ]\n",
      " [-0.80532297  1.        ]\n",
      " [-0.63692828  1.        ]\n",
      " [-0.1359002   1.        ]\n",
      " [-0.59458934  1.        ]\n",
      " [-0.74142494  1.        ]\n",
      " [ 0.03470234  1.        ]\n",
      " [ 1.35957343  1.        ]\n",
      " [-0.70726806  1.        ]]\n"
     ]
    },
    {
     "data": {
      "text/plain": [
       "(97, 2)"
      ]
     },
     "execution_count": 23,
     "metadata": {},
     "output_type": "execute_result"
    }
   ],
   "source": [
    "mu = np.mean(X_train)\n",
    "sigma = np.std(X_train)\n",
    "X_norm = (X - mu) / sigma\n",
    "m=len(Y_train)\n",
    "X_prep = np.c_[X_norm,np.ones(m)]  # shape: (m, 2) #[[2.2,1],[1.32,1],[232.12,1]] like this okay:\n",
    "theta = np.ones(2)\n",
    "print(theta) # why: i am initializing w,b with 1,1 \n",
    "print(m)\n",
    "print(X_prep)\n",
    "X_prep.shape\n"
   ]
  },
  {
   "cell_type": "markdown",
   "id": "7bd98191",
   "metadata": {},
   "source": [
    "cost function here will be\n",
    "j(w,b)=1/2m*sigma(f-y)^2;"
   ]
  },
  {
   "cell_type": "code",
   "execution_count": 43,
   "id": "ff0ffbb3",
   "metadata": {},
   "outputs": [
    {
     "name": "stdout",
     "output_type": "stream",
     "text": [
      "[-0.0648113  -0.36736588  1.18639523  0.39915073 -0.1948412   1.1158996\n",
      "  0.64497632  1.21730525  0.13057121 -0.61313951 -0.27229808  4.11915892\n",
      " -0.26019381  1.12914675 -0.30866281 -0.44440716  0.06781607 -0.57391755\n",
      "  0.10116772  0.43426867 -0.02377111  7.29120255 -0.38689893  0.04739987\n",
      " -0.34804062  6.60287012  3.42511203  2.45313469  3.6058967   8.29538865\n",
      " -0.51038317  0.18418321  1.56541963 -0.17821732  1.02665015  0.88238607\n",
      "  0.96680419 -0.32653348  3.429268    0.06158211 -0.43012101  0.33644754\n",
      "  2.84327632 -0.23956982  0.82591683  0.44585343 -0.60503537 -0.22517977\n",
      "  2.83912035 -0.36014488  0.67812017 -0.48165503  0.61770277  0.71079648\n",
      "  0.05088049  0.06443934  0.02043802 -0.3091823   1.5976284   1.67212415\n",
      "  1.34577665 -0.54835834  7.81537418  4.50566407  6.61014306  0.5108424\n",
      "  1.07028783  2.07857795 -0.38206762  7.32808678  2.02662834  0.57125981\n",
      " -0.11878696  0.51484252 -0.62752956  0.16262412  0.67728898 -0.6225424\n",
      "  2.09831881 -0.58555427 -0.2626874  -0.54363093  0.06277696  1.83581739\n",
      "  0.14600024  1.18566793  1.53009389 -0.12096884 -0.3711582  -0.61064593\n",
      " -0.27385656  0.7281996  -0.18917869 -0.48284987  1.06940469  3.71914687\n",
      " -0.41453613]\n",
      "Cost with theta [2,1]: 19.547516559183528\n"
     ]
    }
   ],
   "source": [
    "def compute_cost(X, y, theta):\n",
    "    m = len(y)\n",
    "    predictions = np.dot(X,theta)         # shape: (m,)\n",
    "   \n",
    "    print(predictions)\n",
    "    error = predictions - y.ravel()    # flatten y to match shape\n",
    "    cost = (1 / (2 * m)) * np.sum(error ** 2)\n",
    "    return cost\n",
    "\n",
    "# Try with theta = [2, 1]\n",
    "theta_test = np.array([2, 1])\n",
    "cost = compute_cost(X_prep, Y_train, theta_test)\n",
    "print(\"Cost with theta [2,1]:\", cost)\n"
   ]
  },
  {
   "cell_type": "code",
   "execution_count": 44,
   "id": "cc8366ce",
   "metadata": {},
   "outputs": [
    {
     "name": "stdout",
     "output_type": "stream",
     "text": [
      "[-0.0648113  -0.36736588  1.18639523  0.39915073 -0.1948412   1.1158996\n",
      "  0.64497632  1.21730525  0.13057121 -0.61313951 -0.27229808  4.11915892\n",
      " -0.26019381  1.12914675 -0.30866281 -0.44440716  0.06781607 -0.57391755\n",
      "  0.10116772  0.43426867 -0.02377111  7.29120255 -0.38689893  0.04739987\n",
      " -0.34804062  6.60287012  3.42511203  2.45313469  3.6058967   8.29538865\n",
      " -0.51038317  0.18418321  1.56541963 -0.17821732  1.02665015  0.88238607\n",
      "  0.96680419 -0.32653348  3.429268    0.06158211 -0.43012101  0.33644754\n",
      "  2.84327632 -0.23956982  0.82591683  0.44585343 -0.60503537 -0.22517977\n",
      "  2.83912035 -0.36014488  0.67812017 -0.48165503  0.61770277  0.71079648\n",
      "  0.05088049  0.06443934  0.02043802 -0.3091823   1.5976284   1.67212415\n",
      "  1.34577665 -0.54835834  7.81537418  4.50566407  6.61014306  0.5108424\n",
      "  1.07028783  2.07857795 -0.38206762  7.32808678  2.02662834  0.57125981\n",
      " -0.11878696  0.51484252 -0.62752956  0.16262412  0.67728898 -0.6225424\n",
      "  2.09831881 -0.58555427 -0.2626874  -0.54363093  0.06277696  1.83581739\n",
      "  0.14600024  1.18566793  1.53009389 -0.12096884 -0.3711582  -0.61064593\n",
      " -0.27385656  0.7281996  -0.18917869 -0.48284987  1.06940469  3.71914687\n",
      " -0.41453613]\n",
      "19.547516559183528\n"
     ]
    }
   ],
   "source": [
    "theta=np.array([2,1])\n",
    "cost=compute_cost(X_prep,Y_train,theta)\n",
    "print(cost)"
   ]
  }
 ],
 "metadata": {
  "kernelspec": {
   "display_name": "Python 3",
   "language": "python",
   "name": "python3"
  },
  "language_info": {
   "codemirror_mode": {
    "name": "ipython",
    "version": 3
   },
   "file_extension": ".py",
   "mimetype": "text/x-python",
   "name": "python",
   "nbconvert_exporter": "python",
   "pygments_lexer": "ipython3",
   "version": "3.12.5"
  }
 },
 "nbformat": 4,
 "nbformat_minor": 5
}
