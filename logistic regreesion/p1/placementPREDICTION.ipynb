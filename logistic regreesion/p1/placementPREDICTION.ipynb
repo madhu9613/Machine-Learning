{
 "cells": [
  {
   "cell_type": "markdown",
   "id": "f2856347",
   "metadata": {},
   "source": [
    "AS I HAVE ALREADY LEARN ABOUT LOGISTIC REGRESSION SO I THINK I SHOULD START  BOTH USING LIBARY AND MANUALLY ITS MY today goal lets do it ..\n",
    "//I WILL FOLLOW THE FOLLWOING PROCESS\n",
    "..PROCESSING,EDA, PLOT GRAPH AND UNDERSTAND \n",
    ".... improve accuracy and all \n",
    "lets do it \n",
    "go boy..."
   ]
  },
  {
   "cell_type": "code",
   "execution_count": 2,
   "id": "cfc9c259",
   "metadata": {},
   "outputs": [],
   "source": [
    "import numpy as np\n",
    "import pandas as pd\n",
    "import matplotlib.pyplot as plt\n"
   ]
  },
  {
   "cell_type": "code",
   "execution_count": 3,
   "id": "57401ba6",
   "metadata": {},
   "outputs": [
    {
     "data": {
      "text/html": [
       "<div>\n",
       "<style scoped>\n",
       "    .dataframe tbody tr th:only-of-type {\n",
       "        vertical-align: middle;\n",
       "    }\n",
       "\n",
       "    .dataframe tbody tr th {\n",
       "        vertical-align: top;\n",
       "    }\n",
       "\n",
       "    .dataframe thead th {\n",
       "        text-align: right;\n",
       "    }\n",
       "</style>\n",
       "<table border=\"1\" class=\"dataframe\">\n",
       "  <thead>\n",
       "    <tr style=\"text-align: right;\">\n",
       "      <th></th>\n",
       "      <th>Unnamed: 0</th>\n",
       "      <th>cgpa</th>\n",
       "      <th>iq</th>\n",
       "      <th>placement</th>\n",
       "    </tr>\n",
       "  </thead>\n",
       "  <tbody>\n",
       "    <tr>\n",
       "      <th>0</th>\n",
       "      <td>0</td>\n",
       "      <td>6.8</td>\n",
       "      <td>123.0</td>\n",
       "      <td>1</td>\n",
       "    </tr>\n",
       "    <tr>\n",
       "      <th>1</th>\n",
       "      <td>1</td>\n",
       "      <td>5.9</td>\n",
       "      <td>106.0</td>\n",
       "      <td>0</td>\n",
       "    </tr>\n",
       "    <tr>\n",
       "      <th>2</th>\n",
       "      <td>2</td>\n",
       "      <td>5.3</td>\n",
       "      <td>121.0</td>\n",
       "      <td>0</td>\n",
       "    </tr>\n",
       "    <tr>\n",
       "      <th>3</th>\n",
       "      <td>3</td>\n",
       "      <td>7.4</td>\n",
       "      <td>132.0</td>\n",
       "      <td>1</td>\n",
       "    </tr>\n",
       "    <tr>\n",
       "      <th>4</th>\n",
       "      <td>4</td>\n",
       "      <td>5.8</td>\n",
       "      <td>142.0</td>\n",
       "      <td>0</td>\n",
       "    </tr>\n",
       "  </tbody>\n",
       "</table>\n",
       "</div>"
      ],
      "text/plain": [
       "   Unnamed: 0  cgpa     iq  placement\n",
       "0           0   6.8  123.0          1\n",
       "1           1   5.9  106.0          0\n",
       "2           2   5.3  121.0          0\n",
       "3           3   7.4  132.0          1\n",
       "4           4   5.8  142.0          0"
      ]
     },
     "execution_count": 3,
     "metadata": {},
     "output_type": "execute_result"
    }
   ],
   "source": [
    "df=pd.read_csv(\"placement.csv\")\n",
    "df.head()"
   ]
  },
  {
   "cell_type": "code",
   "execution_count": 4,
   "id": "21439171",
   "metadata": {},
   "outputs": [
    {
     "name": "stdout",
     "output_type": "stream",
     "text": [
      "<class 'pandas.core.frame.DataFrame'>\n",
      "RangeIndex: 100 entries, 0 to 99\n",
      "Data columns (total 4 columns):\n",
      " #   Column      Non-Null Count  Dtype  \n",
      "---  ------      --------------  -----  \n",
      " 0   Unnamed: 0  100 non-null    int64  \n",
      " 1   cgpa        100 non-null    float64\n",
      " 2   iq          100 non-null    float64\n",
      " 3   placement   100 non-null    int64  \n",
      "dtypes: float64(2), int64(2)\n",
      "memory usage: 3.3 KB\n"
     ]
    }
   ],
   "source": [
    "df.info()"
   ]
  },
  {
   "cell_type": "code",
   "execution_count": 5,
   "id": "2ace7708",
   "metadata": {},
   "outputs": [
    {
     "data": {
      "text/html": [
       "<div>\n",
       "<style scoped>\n",
       "    .dataframe tbody tr th:only-of-type {\n",
       "        vertical-align: middle;\n",
       "    }\n",
       "\n",
       "    .dataframe tbody tr th {\n",
       "        vertical-align: top;\n",
       "    }\n",
       "\n",
       "    .dataframe thead th {\n",
       "        text-align: right;\n",
       "    }\n",
       "</style>\n",
       "<table border=\"1\" class=\"dataframe\">\n",
       "  <thead>\n",
       "    <tr style=\"text-align: right;\">\n",
       "      <th></th>\n",
       "      <th>cgpa</th>\n",
       "      <th>iq</th>\n",
       "      <th>placement</th>\n",
       "    </tr>\n",
       "  </thead>\n",
       "  <tbody>\n",
       "    <tr>\n",
       "      <th>0</th>\n",
       "      <td>6.8</td>\n",
       "      <td>123.0</td>\n",
       "      <td>1</td>\n",
       "    </tr>\n",
       "    <tr>\n",
       "      <th>1</th>\n",
       "      <td>5.9</td>\n",
       "      <td>106.0</td>\n",
       "      <td>0</td>\n",
       "    </tr>\n",
       "    <tr>\n",
       "      <th>2</th>\n",
       "      <td>5.3</td>\n",
       "      <td>121.0</td>\n",
       "      <td>0</td>\n",
       "    </tr>\n",
       "    <tr>\n",
       "      <th>3</th>\n",
       "      <td>7.4</td>\n",
       "      <td>132.0</td>\n",
       "      <td>1</td>\n",
       "    </tr>\n",
       "    <tr>\n",
       "      <th>4</th>\n",
       "      <td>5.8</td>\n",
       "      <td>142.0</td>\n",
       "      <td>0</td>\n",
       "    </tr>\n",
       "  </tbody>\n",
       "</table>\n",
       "</div>"
      ],
      "text/plain": [
       "   cgpa     iq  placement\n",
       "0   6.8  123.0          1\n",
       "1   5.9  106.0          0\n",
       "2   5.3  121.0          0\n",
       "3   7.4  132.0          1\n",
       "4   5.8  142.0          0"
      ]
     },
     "execution_count": 5,
     "metadata": {},
     "output_type": "execute_result"
    }
   ],
   "source": [
    "#removed unwanted rows here... [:,1:] initial : means keep all rows as it it and ,1: means 1 onward means drop coloumn 0\n",
    "df=df.iloc[:,1:]\n",
    "df.head()"
   ]
  },
  {
   "cell_type": "code",
   "execution_count": 6,
   "id": "a33abb74",
   "metadata": {},
   "outputs": [
    {
     "data": {
      "image/png": "[encoded data removed]",
      "text/plain": [
       "<Figure size 640x480 with 1 Axes>"
      ]
     },
     "metadata": {},
     "output_type": "display_data"
    }
   ],
   "source": [
    "plt.scatter(df['cgpa'],df['iq'],c=df['placement'],\n",
    "             cmap='bwr',         \n",
    "                      edgecolor='k',      \n",
    "                      alpha=0.8)     \n",
    "\n",
    "plt.xlabel(\"CGPA\")\n",
    "plt.ylabel(\"IQ\")\n",
    "plt.title(\"Students Placement data based on CGPA and IQ\")    \n",
    "\n",
    "#additional\n",
    "import matplotlib.patches as mpatches\n",
    "legend_labels = [mpatches.Patch(color='blue', label='Not Placed'),\n",
    "                 mpatches.Patch(color='red', label='Placed')]\n",
    "plt.legend(handles=legend_labels)\n",
    "\n",
    "# Optional: Add grid\n",
    "plt.grid(True, linestyle='--', alpha=0.3)"
   ]
  },
  {
   "cell_type": "code",
   "execution_count": 7,
   "id": "5bea63bf",
   "metadata": {},
   "outputs": [
    {
     "name": "stdout",
     "output_type": "stream",
     "text": [
      "    cgpa     iq\n",
      "0    6.8  123.0\n",
      "1    5.9  106.0\n",
      "2    5.3  121.0\n",
      "3    7.4  132.0\n",
      "4    5.8  142.0\n",
      "..   ...    ...\n",
      "95   4.3  200.0\n",
      "96   4.4   42.0\n",
      "97   6.7  182.0\n",
      "98   6.3  103.0\n",
      "99   6.2  113.0\n",
      "\n",
      "[100 rows x 2 columns]\n",
      "    placement\n",
      "0           1\n",
      "1           0\n",
      "2           0\n",
      "3           1\n",
      "4           0\n",
      "..        ...\n",
      "95          0\n",
      "96          0\n",
      "97          1\n",
      "98          1\n",
      "99          1\n",
      "\n",
      "[100 rows x 1 columns]\n"
     ]
    }
   ],
   "source": [
    "#now seperatle the feature means INPUT with the Output\n",
    "\n",
    "X=df.iloc[:,0:2]\n",
    "Y=df.iloc[:,-1:]\n",
    "print(X)\n",
    "print(Y)"
   ]
  },
  {
   "cell_type": "code",
   "execution_count": 8,
   "id": "ecbe6166",
   "metadata": {},
   "outputs": [],
   "source": [
    "\n",
    "from sklearn.model_selection import train_test_split\n",
    "\n",
    "X_train,X_test,y_train,y_test = train_test_split(X,Y,test_size=0.1)\n"
   ]
  },
  {
   "cell_type": "code",
   "execution_count": 9,
   "id": "729b8f35",
   "metadata": {},
   "outputs": [
    {
     "data": {
      "text/plain": [
       "array([[-0.13134763, -0.45458616],\n",
       "       [-1.14723945,  1.16750543],\n",
       "       [ 0.97689799,  0.70405069],\n",
       "       [-0.03899383,  0.00886858],\n",
       "       [-0.96253185, -0.84079845],\n",
       "       [-0.77782424,  0.21484846],\n",
       "       [ 0.60748279,  1.50222275],\n",
       "       [-0.22370143,  0.47232332],\n",
       "       [-0.87017804,  1.34773783],\n",
       "       [-0.03899383, -2.02518279],\n",
       "       [ 1.438667  ,  0.11185852],\n",
       "       [-0.96253185, -0.14561634],\n",
       "       [ 0.51512898, -0.09412136],\n",
       "       [ 0.97689799, -1.94794033],\n",
       "       [ 0.60748279,  0.78129315],\n",
       "       [-0.03899383, -1.48448559],\n",
       "       [-1.14723945,  1.01302052],\n",
       "       [ 0.88454419,  0.39508086],\n",
       "       [ 1.90043601,  0.65255572],\n",
       "       [-1.33194705,  0.57531326],\n",
       "       [-0.87017804, -1.48448559],\n",
       "       [ 0.88454419, -0.30010125],\n",
       "       [ 0.88454419,  1.93993   ],\n",
       "       [ 0.42277518, -2.23116267],\n",
       "       [ 0.88454419, -1.53598056],\n",
       "       [ 0.05335997, -1.51023307],\n",
       "       [-1.51665466,  0.65255572],\n",
       "       [ 0.88454419,  1.32199035],\n",
       "       [-0.31605523,  1.16750543],\n",
       "       [-2.34783887,  2.81534451],\n",
       "       [-0.87017804,  0.11185852],\n",
       "       [ 0.42277518,  0.16335349],\n",
       "       [ 0.42277518,  0.93577806],\n",
       "       [-1.14723945,  0.44657583],\n",
       "       [-0.77782424,  2.58361714],\n",
       "       [ 1.1616056 , -0.19711131],\n",
       "       [ 1.6233746 , -0.24860628],\n",
       "       [-1.23959325, -0.94378839],\n",
       "       [-0.59311664,  0.29209092],\n",
       "       [-0.22370143,  1.09026298],\n",
       "       [-1.60900846,  1.96567749],\n",
       "       [ 1.3463132 ,  0.88428309],\n",
       "       [-0.68547044, -0.06837388],\n",
       "       [-1.97842366, -0.37734371],\n",
       "       [ 0.42277518, -0.86654593],\n",
       "       [-1.23959325, -1.84495039],\n",
       "       [-0.03899383,  0.65255572],\n",
       "       [ 0.69983659, -0.01687891],\n",
       "       [ 0.79219039,  0.36933338],\n",
       "       [-0.59311664,  0.39508086],\n",
       "       [ 1.80808221, -1.14976828],\n",
       "       [-0.03899383, -0.55757611],\n",
       "       [ 0.23806758, -0.53182862],\n",
       "       [-1.05488565, -0.09412136],\n",
       "       [-0.77782424, -0.35159622],\n",
       "       [ 0.51512898,  0.36933338],\n",
       "       [ 0.69983659,  0.44657583],\n",
       "       [ 0.05335997,  0.83278812],\n",
       "       [-0.77782424, -0.86654593],\n",
       "       [ 0.79219039,  0.39508086],\n",
       "       [ 0.14571378, -0.27435376],\n",
       "       [ 0.33042138,  0.44657583],\n",
       "       [ 1.1616056 , -1.89644536],\n",
       "       [ 1.3463132 ,  0.16335349],\n",
       "       [-1.05488565,  0.26634343],\n",
       "       [ 1.1616056 , -0.96953588],\n",
       "       [ 0.05335997,  0.21484846],\n",
       "       [ 1.90043601,  1.09026298],\n",
       "       [-1.23959325, -0.06837388],\n",
       "       [ 1.2539594 ,  0.21484846],\n",
       "       [ 0.79219039, -0.71206102],\n",
       "       [-0.68547044, -0.24860628],\n",
       "       [ 2.08514361,  1.14175795],\n",
       "       [-1.88606986, -1.25275822],\n",
       "       [-1.05488565, -1.61322302],\n",
       "       [-0.31605523,  0.21484846],\n",
       "       [-0.31605523,  0.42082835],\n",
       "       [ 1.1616056 ,  0.34358589],\n",
       "       [ 0.69983659, -0.86654593],\n",
       "       [-0.31605523,  0.49807081],\n",
       "       [ 1.3463132 , -1.61322302],\n",
       "       [-1.14723945, -0.30010125],\n",
       "       [ 0.05335997, -0.53182862],\n",
       "       [ 0.23806758,  0.08611104],\n",
       "       [-1.88606986, -0.60907108],\n",
       "       [ 0.69983659, -0.30010125],\n",
       "       [ 0.05335997, -1.0982733 ],\n",
       "       [ 0.23806758,  0.11185852],\n",
       "       [-0.77782424,  0.96152555],\n",
       "       [-0.59311664, -0.42883868]])"
      ]
     },
     "execution_count": 9,
     "metadata": {},
     "output_type": "execute_result"
    }
   ],
   "source": [
    "from sklearn.preprocessing import StandardScaler\n",
    "scaler = StandardScaler()\n",
    "X_train = scaler.fit_transform(X_train)\n",
    "X_train\n"
   ]
  },
  {
   "cell_type": "code",
   "execution_count": 10,
   "id": "ad9359e4",
   "metadata": {},
   "outputs": [],
   "source": [
    "X_test = scaler.transform(X_test)\n"
   ]
  },
  {
   "cell_type": "code",
   "execution_count": 11,
   "id": "f1f058d0",
   "metadata": {},
   "outputs": [
    {
     "name": "stderr",
     "output_type": "stream",
     "text": [
      "c:\\Users\\HP\\AppData\\Local\\Programs\\Python\\Python312\\Lib\\site-packages\\sklearn\\utils\\validation.py:1408: DataConversionWarning: A column-vector y was passed when a 1d array was expected. Please change the shape of y to (n_samples, ), for example using ravel().\n",
      "  y = column_or_1d(y, warn=True)\n"
     ]
    },
    {
     "data": {
      "text/plain": [
       "array([1, 1, 0, 0, 0, 0, 0, 0, 0, 1], dtype=int64)"
      ]
     },
     "execution_count": 11,
     "metadata": {},
     "output_type": "execute_result"
    }
   ],
   "source": [
    "from sklearn.linear_model import LogisticRegression\n",
    "clf = LogisticRegression()\n",
    "clf.fit(X_train,y_train)\n",
    "y_pred = clf.predict(X_test)\n",
    "y_pred"
   ]
  },
  {
   "cell_type": "code",
   "execution_count": 12,
   "id": "1ff3ade9",
   "metadata": {},
   "outputs": [
    {
     "data": {
      "text/plain": [
       "array([[1],\n",
       "       [1],\n",
       "       [0],\n",
       "       [0],\n",
       "       [0],\n",
       "       [0],\n",
       "       [0],\n",
       "       [0],\n",
       "       [0],\n",
       "       [1]], dtype=int64)"
      ]
     },
     "execution_count": 12,
     "metadata": {},
     "output_type": "execute_result"
    }
   ],
   "source": [
    "y_test= np.array(y_test, dtype=np.int64)\n",
    "y_test"
   ]
  },
  {
   "cell_type": "code",
   "execution_count": 13,
   "id": "e1b8c742",
   "metadata": {},
   "outputs": [
    {
     "data": {
      "text/plain": [
       "1.0"
      ]
     },
     "execution_count": 13,
     "metadata": {},
     "output_type": "execute_result"
    }
   ],
   "source": [
    "from sklearn.metrics import accuracy_score\n",
    "accuracy_score(y_test,y_pred)\n"
   ]
  },
  {
   "cell_type": "code",
   "execution_count": null,
   "id": "db5697a7",
   "metadata": {},
   "outputs": [],
   "source": []
  },
  {
   "cell_type": "code",
   "execution_count": 14,
   "id": "2cbc2379",
   "metadata": {},
   "outputs": [
    {
     "data": {
      "text/plain": [
       "<Axes: >"
      ]
     },
     "execution_count": 14,
     "metadata": {},
     "output_type": "execute_result"
    },
    {
     "data": {
      "image/png": "[encoded data removed]",
      "text/plain": [
       "<Figure size 640x480 with 1 Axes>"
      ]
     },
     "metadata": {},
     "output_type": "display_data"
    }
   ],
   "source": [
    "from mlxtend.plotting import plot_decision_regions\n",
    "plot_decision_regions(X_train, y_train.to_numpy().ravel(), clf=clf, legend=2)\n"
   ]
  },
  {
   "cell_type": "code",
   "execution_count": 15,
   "id": "a6ee4475",
   "metadata": {},
   "outputs": [],
   "source": [
    "import pickle\n",
    "pickle.dump(clf,open('model.pkl','wb'))\n"
   ]
  }
 ],
 "metadata": {
  "kernelspec": {
   "display_name": "Python 3",
   "language": "python",
   "name": "python3"
  },
  "language_info": {
   "codemirror_mode": {
    "name": "ipython",
    "version": 3
   },
   "file_extension": ".py",
   "mimetype": "text/x-python",
   "name": "python",
   "nbconvert_exporter": "python",
   "pygments_lexer": "ipython3",
   "version": "3.12.5"
  }
 },
 "nbformat": 4,
 "nbformat_minor": 5
}
